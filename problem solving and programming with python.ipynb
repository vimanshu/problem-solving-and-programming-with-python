{
 "cells": [
  {
   "cell_type": "code",
   "execution_count": 4,
   "metadata": {},
   "outputs": [
    {
     "name": "stdout",
     "output_type": "stream",
     "text": [
      "today's session date: 2019-08-21\n"
     ]
    }
   ],
   "source": [
    "from datetime import date\n",
    "today = date.today()\n",
    "\n",
    "print(\"today's session date:\", today)"
   ]
  },
  {
   "cell_type": "code",
   "execution_count": 13,
   "metadata": {},
   "outputs": [
    {
     "name": "stdout",
     "output_type": "stream",
     "text": [
      "0\n",
      "1\n",
      "2\n",
      "3\n",
      "4\n",
      "5\n",
      "6\n",
      "7\n",
      "8\n",
      "9\n",
      "10\n"
     ]
    }
   ],
   "source": [
    "# Analyse the algorithm or make algorithm\n",
    "\n",
    "# To print 10 number using the specified algorithm \n",
    "\n",
    "\n",
    "I =0\n",
    "N =10\n",
    "\n",
    "while I<=N:\n",
    "    print(I)\n",
    "    I +=1"
   ]
  },
  {
   "cell_type": "code",
   "execution_count": 27,
   "metadata": {},
   "outputs": [
    {
     "name": "stdout",
     "output_type": "stream",
     "text": [
      "397\n"
     ]
    }
   ],
   "source": [
    "#design an algo for adding the test score given as: 26,49,98,87,62,75\n",
    "\n",
    "Sum = 0\n",
    "value = [26,49,98,87,62,75]\n",
    "\n",
    "#Sum = value[0] + value [1] just to check wether the addition being performed in pyhton or not\n",
    "for i in value:\n",
    "    Sum += i\n",
    "    \n",
    "print(Sum)\n",
    "    \n"
   ]
  },
  {
   "cell_type": "code",
   "execution_count": 7,
   "metadata": {},
   "outputs": [
    {
     "name": "stdout",
     "output_type": "stream",
     "text": [
      "enter first number:10\n",
      "enter second number2\n",
      "the number entered are 10 2\n",
      "swapped number 1: 2\tswapped number 2 : 10\n"
     ]
    }
   ],
   "source": [
    "# write an algorithm for swapping two values\n",
    "# fuck, i spent an amount of time on this one \n",
    "\n",
    "number1 = input('enter first number:')\n",
    "number2 = input('enter second number')\n",
    "\n",
    "print('the number entered are', number1,number2)\n",
    "temp = number1\n",
    "#value of temp=10\n",
    "\n",
    "number1 = number2\n",
    "\n",
    "number2 = temp\n",
    "\n",
    "print('swapped number 1:', number1 +''+ '\\tswapped number 2 :', number2)\n",
    "\n"
   ]
  },
  {
   "cell_type": "code",
   "execution_count": 10,
   "metadata": {},
   "outputs": [
    {
     "name": "stdout",
     "output_type": "stream",
     "text": [
      "num1:12\n",
      "num2:13\n",
      "enetered numbers 12 13\n",
      "num2 is greater 13\n"
     ]
    }
   ],
   "source": [
    "# write an algorithm to find the larger of the two number\n",
    "\n",
    "num1 = input('num1:')\n",
    "num2 = input('num2:')\n",
    "print('enetered numbers', num1, num2)\n",
    "\n",
    "if num1>num2:\n",
    "    print('num1 is greater:', num1)\n",
    "else:\n",
    "    print('num2 is greater i.e', num2)"
   ]
  },
  {
   "cell_type": "code",
   "execution_count": 13,
   "metadata": {},
   "outputs": [
    {
     "name": "stdout",
     "output_type": "stream",
     "text": [
      "enter number:13\n",
      "ODD\n"
     ]
    }
   ],
   "source": [
    "# write an algorithm wether a number is even or odd\n",
    "\n",
    "num = input('enter number:')\n",
    "# in this the input is stored in the form of string so the type conversion is done in the instruction below\n",
    "if (int(num)%2 == 0):\n",
    "    print(\"EVEN\")\n",
    "else:\n",
    "    print(\"ODD\")"
   ]
  },
  {
   "cell_type": "code",
   "execution_count": 9,
   "metadata": {},
   "outputs": [
    {
     "name": "stdout",
     "output_type": "stream",
     "text": [
      "enter N for finding sum of first N natural number10\n",
      "55\n"
     ]
    }
   ],
   "source": [
    "# an algo for finding the sum of first N natural numbers\n",
    "\n",
    "N = input('enter N for finding sum of first N natural number')\n",
    "\n",
    "intN = int(N) # perfoming the type conversion\n",
    "\n",
    "Sum = 0\n",
    "i =1\n",
    "while i<= intN:\n",
    "    Sum += i\n",
    "    i += 1\n",
    "\n",
    "print(Sum)\n",
    "\n"
   ]
  },
  {
   "cell_type": "code",
   "execution_count": 12,
   "metadata": {},
   "outputs": [
    {
     "name": "stdout",
     "output_type": "stream",
     "text": [
      "enter N for factorial of N3\n",
      "6\n"
     ]
    }
   ],
   "source": [
    "# write a recursive algorithm to find the factorial of a number\n",
    "\n",
    "N = input('enter N for factorial of N')\n",
    "\n",
    "fact = 0\n",
    "if N == 1:\n",
    "    print(\"factorial: 1\")\n",
    "else:\n",
    "    fact = int(N)*(int(N)-1)\n",
    "    \n",
    "print(fact)"
   ]
  },
  {
   "cell_type": "code",
   "execution_count": 20,
   "metadata": {},
   "outputs": [
    {
     "name": "stdout",
     "output_type": "stream",
     "text": [
      "1200\n",
      "2200\n",
      "3600\n",
      "5800\n"
     ]
    }
   ],
   "source": [
    "# pay = wages/hr * no of hrs worked\n",
    "# if employee worked more than 30 hrs\n",
    "#    pay = pay + 2*wages*extra_hrs\n",
    "\n",
    "employee = {'emp' :['a','b','c','d'],'hrs worked':[12,22,33,44]}\n",
    "\n",
    "\n",
    "wages_per_hr = 100\n",
    "pay = []\n",
    "for i in employee['hrs worked']:\n",
    "    if i <= 30:\n",
    "        pay = i*wages_per_hr\n",
    "        print(pay)\n",
    "        \n",
    "    else:\n",
    "        pay = 30*wages_per_hr + (i-30)*2*wages_per_hr\n",
    "        print(pay)\n",
    "\n",
    "\n",
    "\n"
   ]
  },
  {
   "cell_type": "markdown",
   "metadata": {},
   "source": [
    "# find minimum in a List\n"
   ]
  },
  {
   "cell_type": "code",
   "execution_count": 29,
   "metadata": {},
   "outputs": [
    {
     "name": "stdout",
     "output_type": "stream",
     "text": [
      "1\n"
     ]
    }
   ],
   "source": [
    "\n",
    "\n",
    "        \n",
    "list1 = [4,3,2,1]\n",
    "\n",
    "min_ = list1[0]\n",
    "i =0\n",
    "# Defined a range() to avoid type conversion errors\n",
    "while i<len(list1):\n",
    "    list1[i] <= min_\n",
    "    min_ = list1[i]\n",
    "    i += 1\n",
    "    \n",
    "    \n",
    "print(min_)\n",
    "\n",
    "    \n",
    "    \n",
    "    \n",
    "\n"
   ]
  },
  {
   "cell_type": "code",
   "execution_count": 51,
   "metadata": {},
   "outputs": [
    {
     "name": "stdout",
     "output_type": "stream",
     "text": [
      "[1, 2, 3, 4, 5, 7, 9, None]\n"
     ]
    }
   ],
   "source": [
    "# Adding an element in sorted list\n",
    "\n",
    "sortedlist = [1,2,3,4,5,9,10]\n",
    "element_to_insert = [7]\n",
    "\n",
    "for i in range(0,len(sortedlist)-1):\n",
    "    if sortedlist[i]< element_to_insert[0]:\n",
    "        i+= 1\n",
    "    else:\n",
    "        sortedlist[i+1]=sortedlist[i]\n",
    "        sortedlist[i+2]=sortedlist.append(10)\n",
    "        sortedlist[i] = element_to_insert[0]\n",
    "        \n",
    "print(sortedlist)\n",
    "        \n",
    "    \n",
    "    \n",
    "# Give it a thought"
   ]
  },
  {
   "cell_type": "markdown",
   "metadata": {},
   "source": [
    "# guess the number"
   ]
  },
  {
   "cell_type": "code",
   "execution_count": 1,
   "metadata": {},
   "outputs": [
    {
     "name": "stdout",
     "output_type": "stream",
     "text": [
      "enter the limit number N: 30\n",
      "18\n",
      "enter your guess: 12\n",
      "enter your guess: 13\n",
      "the guess is too low\n",
      "enter your guess: 14\n",
      "the guess is too low\n",
      "enter your guess: 19\n",
      "the guess is too high\n",
      "enter your guess: 18\n",
      "you got it! with guess count:  4\n"
     ]
    }
   ],
   "source": [
    "# in this program will select a random number specified by the user and user try to guess and dispalys guess count \n",
    "\n",
    "import random\n",
    "\n",
    "N = int(input('enter the limit number N: '))\n",
    "\n",
    "rand = random.randint(0,N)\n",
    "print(rand)\n",
    "\n",
    "guess_input = int(input('enter your guess: '))\n",
    "\n",
    "\n",
    "guess_count =0\n",
    "while guess_input != rand:\n",
    "    guess_input = int(input('enter your guess: '))\n",
    "    guess_count += 1\n",
    "\n",
    "    if guess_input == rand:\n",
    "        \n",
    "        print('you got it! with guess count: ', guess_count)\n",
    "        \n",
    "    elif guess_input< rand:\n",
    "        \n",
    "        print('the guess is too low')\n",
    "        \n",
    "    \n",
    "    elif guess_input > rand:\n",
    "        \n",
    "        print('the guess is too high')\n",
    "      \n",
    "     # Gotta tweak this program a bit "
   ]
  },
  {
   "cell_type": "markdown",
   "metadata": {},
   "source": [
    "# TOWER OF HANOI"
   ]
  },
  {
   "cell_type": "markdown",
   "metadata": {},
   "source": [
    "This is based on the fact that if you know till (n-1) sequence then you can get nth sequence"
   ]
  },
  {
   "cell_type": "code",
   "execution_count": 2,
   "metadata": {},
   "outputs": [],
   "source": [
    "# considering this to be a ring game in which we have poles and rings stacked upon one another,\n",
    "# the base has the bigger ring and and the ring stacked above the base ring is relatively smaller and so on.\n",
    "# only one ring can be moved along the tower/pole at any given time\n",
    "# Only the top disk can be removed\n",
    "# No large disk can sit over a small disk\n",
    "\n",
    "\n",
    "\n"
   ]
  },
  {
   "cell_type": "code",
   "execution_count": null,
   "metadata": {},
   "outputs": [],
   "source": [
    "#write a program that considers 3 rings and 3 poles solve using tower of hanoi problem\n",
    "\n",
    "N_rings = 3\n",
    "n_poles = 3\n",
    "# base condition if source pole has only one ring then we can directly move it from source to destination\n",
    "poles =['source','spare','dest']\n",
    "rings =['a','b','c']\n",
    "\n",
    "orientation ={rings[0]:poles[1]} # this allocates the three rings(a,b,c) to the pole 1\n",
    "\n",
    "\n"
   ]
  }
 ],
 "metadata": {
  "kernelspec": {
   "display_name": "Python 3",
   "language": "python",
   "name": "python3"
  },
  "language_info": {
   "codemirror_mode": {
    "name": "ipython",
    "version": 3
   },
   "file_extension": ".py",
   "mimetype": "text/x-python",
   "name": "python",
   "nbconvert_exporter": "python",
   "pygments_lexer": "ipython3",
   "version": "3.6.6"
  }
 },
 "nbformat": 4,
 "nbformat_minor": 2
}
